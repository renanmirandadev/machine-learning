{
 "cells": [
  {
   "cell_type": "code",
   "execution_count": 45,
   "metadata": {},
   "outputs": [],
   "source": [
    "import pandas as pd\n",
    "from collections import Counter\n",
    "\n",
    "# teste inicial: home, busca, logado => comprou\n",
    "# home, busca\n",
    "# home, logado\n",
    "# busca, logado\n",
    "# busca: 62.5% (8 testes)"
   ]
  },
  {
   "cell_type": "code",
   "execution_count": 46,
   "metadata": {},
   "outputs": [],
   "source": [
    "df = pd.read_csv('buscas2.csv')"
   ]
  },
  {
   "cell_type": "code",
   "execution_count": 47,
   "metadata": {},
   "outputs": [],
   "source": [
    "X_df = df[['home','busca','logado']]\n",
    "Y_df = df[['comprou']]"
   ]
  },
  {
   "cell_type": "code",
   "execution_count": 48,
   "metadata": {},
   "outputs": [],
   "source": [
    "Xdummies_df = pd.get_dummies(X_df)\n",
    "Ydummies_df = Y_df"
   ]
  },
  {
   "cell_type": "code",
   "execution_count": 49,
   "metadata": {},
   "outputs": [],
   "source": [
    "X = Xdummies_df.values\n",
    "Y = Ydummies_df.values.ravel()"
   ]
  },
  {
   "cell_type": "code",
   "execution_count": 50,
   "metadata": {},
   "outputs": [],
   "source": [
    "porcentagem_de_treino = 0.8\n",
    "porcentagem_de_teste = 0.1\n",
    "\n",
    "tamanho_do_treino = int(porcentagem_de_treino * len(Y))\n",
    "tamanho_do_teste = int(porcentagem_de_teste * len(Y))\n",
    "tamanho_de_validacao = len(Y) - tamanho_do_treino - tamanho_do_teste"
   ]
  },
  {
   "cell_type": "code",
   "execution_count": 51,
   "metadata": {},
   "outputs": [],
   "source": [
    "treino_dados = X[:tamanho_do_treino]\n",
    "treino_marcacoes = Y[:tamanho_do_treino]\n",
    "\n",
    "fim_do_treino = tamanho_do_treino + tamanho_do_teste\n",
    "\n",
    "teste_dados = X[tamanho_do_treino:fim_do_treino]\n",
    "teste_marcacoes = Y[tamanho_do_treino:fim_do_treino]\n",
    "\n",
    "validacao_dados = X[fim_do_treino:]\n",
    "validacao_marcacoes = Y[fim_do_treino:]"
   ]
  },
  {
   "cell_type": "code",
   "execution_count": 59,
   "metadata": {},
   "outputs": [],
   "source": [
    "def fit_and_prodict(nome, modelo, treino_dados, treino_marcacoes, teste_dados, teste_marcacoes):\n",
    "    modelo.fit(treino_dados, treino_marcacoes)\n",
    "    \n",
    "    resultado = modelo.predict(teste_dados)\n",
    "    \n",
    "    acertos = teste_marcacoes == resultado\n",
    "    \n",
    "    total_de_acertos = sum(acertos)\n",
    "    total_de_elementos = len(teste_marcacoes)\n",
    "    taxa_de_acerto = total_de_acertos / total_de_elementos * 100\n",
    "    \n",
    "    msg = f'Taxa de acerto do algoritmo {nome}: {taxa_de_acerto}%'\n",
    "    print(msg)\n",
    "    \n",
    "    return taxa_de_acerto"
   ]
  },
  {
   "cell_type": "code",
   "execution_count": 60,
   "metadata": {},
   "outputs": [],
   "source": [
    "def teste_real(modelo, validacao_dados, validacao_marcacoes):\n",
    "    resultado = modelo.predict(validacao_dados)\n",
    "    acertos = resultado == validacao_marcacoes\n",
    "    \n",
    "    total_de_acertos = sum(acertos)\n",
    "    total_de_elementos = len(validacao_marcacoes)\n",
    "    \n",
    "    taxa_de_acerto = total_de_acertos / total_de_elementos * 100\n",
    "    \n",
    "    msg = f'Taxa de acerto entre os dois algoritmos no mundo real: {taxa_de_acerto}%'\n",
    "    print(msg)"
   ]
  },
  {
   "cell_type": "code",
   "execution_count": 61,
   "metadata": {},
   "outputs": [
    {
     "name": "stdout",
     "output_type": "stream",
     "text": [
      "Taxa de acerto do algoritmo MultinomialNB: 85.71428571428571%\n"
     ]
    }
   ],
   "source": [
    "from sklearn.naive_bayes import MultinomialNB\n",
    "modeloMultinomial = MultinomialNB()\n",
    "resultadoMultinomial = fit_and_prodict('MultinomialNB', modeloMultinomial, treino_dados, treino_marcacoes, teste_dados, teste_marcacoes)"
   ]
  },
  {
   "cell_type": "code",
   "execution_count": 62,
   "metadata": {},
   "outputs": [
    {
     "name": "stdout",
     "output_type": "stream",
     "text": [
      "Taxa de acerto do algoritmo AdaBoostClassifier: 85.71428571428571%\n"
     ]
    }
   ],
   "source": [
    "from sklearn.ensemble import AdaBoostClassifier\n",
    "modeloAdaBoost = AdaBoostClassifier()\n",
    "resultadoAdaBoost = fit_and_prodict('AdaBoostClassifier', modeloAdaBoost, treino_dados, treino_marcacoes, teste_dados, teste_marcacoes)"
   ]
  },
  {
   "cell_type": "code",
   "execution_count": 78,
   "metadata": {},
   "outputs": [],
   "source": [
    "if resultadoMultinomial > resultadoAdaBoost: \n",
    "    vencedor = modeloMultinomial\n",
    "else:\n",
    "    vencedor = modeloAdaBoost"
   ]
  },
  {
   "cell_type": "code",
   "execution_count": 79,
   "metadata": {},
   "outputs": [
    {
     "name": "stdout",
     "output_type": "stream",
     "text": [
      "Taxa de acerto entre os dois algoritmos no mundo real: 62.5%\n"
     ]
    }
   ],
   "source": [
    "teste_real(vencedor, validacao_dados, validacao_marcacoes)"
   ]
  },
  {
   "cell_type": "code",
   "execution_count": 80,
   "metadata": {},
   "outputs": [
    {
     "name": "stdout",
     "output_type": "stream",
     "text": [
      "Taxa de acerto base: 62.5%\n",
      "Tota de teste: 8\n"
     ]
    }
   ],
   "source": [
    "acerto_base = max(Counter(validacao_marcacoes).values())\n",
    "taxa_de_acerto_base = acerto_base / len(validacao_marcacoes) * 100\n",
    "print(f'Taxa de acerto base: {taxa_de_acerto_base}%')\n",
    "    \n",
    "total_de_elementos = len(validacao_dados)    \n",
    "print(f'Tota de teste: {total_de_elementos}')"
   ]
  },
  {
   "cell_type": "code",
   "execution_count": null,
   "metadata": {},
   "outputs": [],
   "source": []
  }
 ],
 "metadata": {
  "kernelspec": {
   "display_name": "Python 3",
   "language": "python",
   "name": "python3"
  },
  "language_info": {
   "codemirror_mode": {
    "name": "ipython",
    "version": 3
   },
   "file_extension": ".py",
   "mimetype": "text/x-python",
   "name": "python",
   "nbconvert_exporter": "python",
   "pygments_lexer": "ipython3",
   "version": "3.7.5"
  }
 },
 "nbformat": 4,
 "nbformat_minor": 2
}
